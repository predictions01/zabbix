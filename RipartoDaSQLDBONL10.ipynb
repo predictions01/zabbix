{
  "nbformat": 4,
  "nbformat_minor": 0,
  "metadata": {
    "kernelspec": {
      "display_name": "Python 3",
      "language": "python",
      "name": "python3"
    },
    "language_info": {
      "codemirror_mode": {
        "name": "ipython",
        "version": 3
      },
      "file_extension": ".py",
      "mimetype": "text/x-python",
      "name": "python",
      "nbconvert_exporter": "python",
      "pygments_lexer": "ipython3",
      "version": "3.8.6"
    },
    "colab": {
      "name": "RipartoDaSQLDBONL10.ipynb",
      "provenance": [],
      "collapsed_sections": [],
      "toc_visible": true,
      "include_colab_link": true
    }
  },
  "cells": [
    {
      "cell_type": "markdown",
      "metadata": {
        "id": "view-in-github",
        "colab_type": "text"
      },
      "source": [
        "<a href=\"https://colab.research.google.com/github/predictions01/zabbix/blob/main/RipartoDaSQLDBONL10.ipynb\" target=\"_parent\"><img src=\"https://colab.research.google.com/assets/colab-badge.svg\" alt=\"Open In Colab\"/></a>"
      ]
    },
    {
      "cell_type": "code",
      "metadata": {
        "colab": {
          "base_uri": "https://localhost:8080/"
        },
        "id": "ztvd9d58xKV-",
        "outputId": "2578d0d5-7feb-4421-ef45-687626725967"
      },
      "source": [
        " from google.colab import drive\n",
        " drive.mount('/content/drive')"
      ],
      "execution_count": null,
      "outputs": [
        {
          "output_type": "stream",
          "text": [
            "Mounted at /content/drive\n"
          ],
          "name": "stdout"
        }
      ]
    },
    {
      "cell_type": "code",
      "metadata": {
        "id": "OpsTFDtvuXcw"
      },
      "source": [
        "import pandas as pd\n",
        "from sklearn.linear_model import LogisticRegression"
      ],
      "execution_count": null,
      "outputs": []
    },
    {
      "cell_type": "code",
      "metadata": {
        "id": "sPJsLWjaxaSM"
      },
      "source": [
        "main_folder = 'drive/MyDrive/Colab Notebooks/dati/'"
      ],
      "execution_count": null,
      "outputs": []
    },
    {
      "cell_type": "code",
      "metadata": {
        "id": "NmC0VSYmuXc1"
      },
      "source": [
        "metrics = pd.read_pickle(main_folder+\"zabbix-new2\")\n",
        "tickets = pd.read_pickle(main_folder+\"tickets-new2\")\n",
        "device = 'SQLDBONL10'\n",
        "target = 12"
      ],
      "execution_count": null,
      "outputs": []
    },
    {
      "cell_type": "code",
      "metadata": {
        "id": "KQ8IaZ_qHz5C"
      },
      "source": [
        "import pickle\n",
        "def save_obj(obj, name ):\n",
        "    with open(name + '.pkl', 'wb') as f:\n",
        "        pickle.dump(obj, f, pickle.HIGHEST_PROTOCOL)"
      ],
      "execution_count": null,
      "outputs": []
    },
    {
      "cell_type": "code",
      "metadata": {
        "id": "dnHVwtcsHvJ9"
      },
      "source": [
        "save_obj(tickets, 'tickets-AJ')"
      ],
      "execution_count": null,
      "outputs": []
    },
    {
      "cell_type": "code",
      "metadata": {
        "id": "X0orzMghItFb"
      },
      "source": [
        "tickets.to_csv('tickets-AJ2.csv', sep=';')"
      ],
      "execution_count": null,
      "outputs": []
    },
    {
      "cell_type": "markdown",
      "metadata": {
        "id": "1moTz9AEuXc1"
      },
      "source": [
        "# Calcolo metriche"
      ]
    },
    {
      "cell_type": "code",
      "metadata": {
        "id": "g3tkl07AuXc2"
      },
      "source": [
        "my_metrics = metrics[metrics.device == device].set_index('timestamp')[['metric', 'value']]\n",
        "df = my_metrics.pivot(columns='metric', values='value').dropna(thresh=my_metrics.index.nunique() * .9, axis=1).interpolate(limit_direction='both')\n",
        "df['hour'] = df.index.hour\n",
        "df['day'] = df.index.dayofweek"
      ],
      "execution_count": null,
      "outputs": []
    },
    {
      "cell_type": "markdown",
      "metadata": {
        "id": "x3pzKV9JuXc2"
      },
      "source": [
        "# Calcolo la y"
      ]
    },
    {
      "cell_type": "code",
      "metadata": {
        "id": "kGMkxb6guXc2"
      },
      "source": [
        "my_tickets = tickets[tickets.device == device].set_index('timestamp')\n",
        "kappa = lambda x: int(any((x < ticket_time) and (ticket_time < x + pd.offsets.Hour(target)) for ticket_time in my_tickets.index))\n",
        "df['y'] = df.index.map(kappa)"
      ],
      "execution_count": null,
      "outputs": []
    },
    {
      "cell_type": "code",
      "metadata": {
        "id": "ifpZgLTTuXc2"
      },
      "source": [
        "from sklearn.model_selection import train_test_split\n",
        "\n",
        "def balanced_train_test_split(df, test_size=.7):\n",
        "    # Calcolo quant'è il 70% del numero di \"1\"\n",
        "    num_tickets_training = int(df.y.sum() * test_size)\n",
        "\n",
        "    # Faccio cumulative sum per considerare nel training set un numero di ticket = num_tickets_training\n",
        "    cumsum = df.y.cumsum()\n",
        "\n",
        "    # Conto quante righe ho che stanno dopo i primi <num_tickets_training> ticket\n",
        "    num_val_tickets = cumsum[cumsum > num_tickets_training].shape[0]\n",
        "    \n",
        "    # Splitto con test_size fissato\n",
        "    training_set, validation_set = train_test_split(df, test_size=num_val_tickets, shuffle=False)\n",
        "    \n",
        "    return training_set, validation_set\n",
        "\n",
        "training_set, test_set = balanced_train_test_split(df)"
      ],
      "execution_count": null,
      "outputs": []
    },
    {
      "cell_type": "code",
      "metadata": {
        "id": "F0pcSeVcuXc3",
        "colab": {
          "base_uri": "https://localhost:8080/"
        },
        "outputId": "41606faf-7bae-4d45-abd5-410c11f908d8"
      },
      "source": [
        "len(test_set[test_set.y == 1]) / len(test_set)"
      ],
      "execution_count": null,
      "outputs": [
        {
          "output_type": "execute_result",
          "data": {
            "text/plain": [
              "0.3034965034965035"
            ]
          },
          "metadata": {
            "tags": []
          },
          "execution_count": 14
        }
      ]
    },
    {
      "cell_type": "code",
      "metadata": {
        "id": "TkRVhu8juXc3",
        "colab": {
          "base_uri": "https://localhost:8080/"
        },
        "outputId": "68f93907-d7f4-4d65-9cbc-3a950f656dfa"
      },
      "source": [
        "from sklearn.ensemble import RandomForestClassifier\n",
        "from sklearn.metrics import plot_confusion_matrix, confusion_matrix\n",
        "\n",
        "l = RandomForestClassifier().fit(training_set.loc[:, training_set.columns != 'y'], training_set.y)\n",
        "l.score(test_set.loc[:, test_set.columns != 'y'], test_set.y)"
      ],
      "execution_count": null,
      "outputs": [
        {
          "output_type": "execute_result",
          "data": {
            "text/plain": [
              "0.7608391608391608"
            ]
          },
          "metadata": {
            "tags": []
          },
          "execution_count": 17
        }
      ]
    },
    {
      "cell_type": "code",
      "metadata": {
        "id": "32xnHhkNuXc4",
        "colab": {
          "base_uri": "https://localhost:8080/"
        },
        "outputId": "5fc26c36-dc24-47a4-f76a-1e1353bf477a"
      },
      "source": [
        "confusion_matrix(test_set.y, l.predict(test_set.loc[:, test_set.columns != 'y']))\n",
        "#plot_confusion_matrix(l, test_set.loc[:, test_set.columns != 'y'], test_set.y)"
      ],
      "execution_count": null,
      "outputs": [
        {
          "output_type": "execute_result",
          "data": {
            "text/plain": [
              "array([[443,  55],\n",
              "       [116, 101]])"
            ]
          },
          "metadata": {
            "tags": []
          },
          "execution_count": 18
        }
      ]
    },
    {
      "cell_type": "code",
      "metadata": {
        "id": "FvlZhrO2uXc4"
      },
      "source": [
        "df"
      ],
      "execution_count": null,
      "outputs": []
    },
    {
      "cell_type": "code",
      "metadata": {
        "id": "x6oMgOHauXc4"
      },
      "source": [
        ""
      ],
      "execution_count": null,
      "outputs": []
    }
  ]
}